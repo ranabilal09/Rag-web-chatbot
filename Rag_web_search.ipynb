{
  "nbformat": 4,
  "nbformat_minor": 0,
  "metadata": {
    "colab": {
      "provenance": [],
      "authorship_tag": "ABX9TyNrQDrZJCEl6JAlS5D9kUX1",
      "include_colab_link": true
    },
    "kernelspec": {
      "name": "python3",
      "display_name": "Python 3"
    },
    "language_info": {
      "name": "python"
    }
  },
  "cells": [
    {
      "cell_type": "markdown",
      "metadata": {
        "id": "view-in-github",
        "colab_type": "text"
      },
      "source": [
        "<a href=\"https://colab.research.google.com/github/ranabilal09/Rag-web-chatbot/blob/main/Rag_web_search.ipynb\" target=\"_parent\"><img src=\"https://colab.research.google.com/assets/colab-badge.svg\" alt=\"Open In Colab\"/></a>"
      ]
    },
    {
      "cell_type": "code",
      "execution_count": 2,
      "metadata": {
        "id": "pMCgeXf0w0AA"
      },
      "outputs": [],
      "source": [
        "!pip install --upgrade --quiet langchain-exa langchain langchain_community langchain-google-genai"
      ]
    },
    {
      "cell_type": "code",
      "source": [
        "from google.colab import userdata\n",
        "import os\n",
        "\n",
        "os.environ[\"GOOGLE_API_KEY\"] = userdata.get(\"Gemini_Api_Key\")\n",
        "os.environ[\"LANGCHAIN_TRACING_V2\"] = \"true\"\n",
        "os.environ[\"LANGCHAIN_API_KEY\"] = userdata.get(\"langchai_api_key\")\n",
        "os.environ[\"LANGCHAIN_PROJECT\"] = \"web-rag-search\"\n",
        "os.environ[\"EXA_API_KEY\"] = userdata.get(\"exa_api_key\")"
      ],
      "metadata": {
        "id": "_R22iajeFBTU"
      },
      "execution_count": 6,
      "outputs": []
    },
    {
      "cell_type": "code",
      "source": [
        "from langchain_exa import ExaSearchRetriever\n",
        "from langchain_core.prompts import PromptTemplate\n",
        "from langchain_core.runnables import RunnableLambda\n",
        "\n",
        "\n",
        "retriever = ExaSearchRetriever(k=3, highlights=True)\n",
        "\n",
        "document_prompt = PromptTemplate.from_template(\"\"\"\n",
        "<source>\n",
        "    <url>{url}</url>\n",
        "    <highlights>{highlights}</highlights>\n",
        "</source>\n",
        "\"\"\")\n",
        "\n",
        "document_chain = RunnableLambda(\n",
        "    lambda document: {\n",
        "        \"highlights\": document.metadata[\"highlights\"],\n",
        "        \"url\": document.metadata[\"url\"]\n",
        "    }\n",
        ") | document_prompt\n",
        "\n",
        "retrieval_chain = retriever | document_chain.map() | (lambda docs: \"\\n\".join([i.text for i in docs]))\n",
        "\n",
        "print(retrieval_chain.invoke(\"best time to visit japan\"))"
      ],
      "metadata": {
        "colab": {
          "base_uri": "https://localhost:8080/"
        },
        "id": "nWV9MOpyIAJK",
        "outputId": "fb644921-18f7-4091-a385-408e75d73102"
      },
      "execution_count": 7,
      "outputs": [
        {
          "output_type": "stream",
          "name": "stdout",
          "text": [
            "\n",
            "<source>\n",
            "    <url>https://www.responsibletravel.com/holidays/japan/travel-guide/best-time-to-visit-japan</url>\n",
            "    <highlights>['July in Japan By July, the rains are easing and temperatures rising, and people head for beaches, beer gardens and higher ground where it’s cooler. Hike to the summit of the sacred Mount Fuji, an active volcano, which due to snow at other times of year can only be reached in July and August. Expect lots of company on the trails. Japan in July is festival season, events taking place across the country including one of the most significant, the Gion Matsuri in Kyoto, with parades, floats and delectable street food.']</highlights>\n",
            "</source>\n",
            "\n",
            "\n",
            "<source>\n",
            "    <url>https://www.laviezine.com/394856/japan-top-destinations-2022/</url>\n",
            "    <highlights>['japan travel update today,japan top destinations,japan is worth it to visit and have lots of unique culture i recomended for you,many best place you must visit like kobe,osaka,tokyo,hokaido jepan#japan #recommended #visit #osaka #tokyo #kobe #hokaido #2022']</highlights>\n",
            "</source>\n",
            "\n",
            "\n",
            "<source>\n",
            "    <url>https://alljapantours.com/japan/travel/when-to-go/The-Best-Time-to-Visit-Japan/</url>\n",
            "    <highlights>['We weren’t kidding when we said millions of foreign tourists come to Japan for this event. And some start making their reservations as early as a year before their arrival! If you commit to making cherry blossoms part of your journey, book early to guarantee your spot.  Thankfully, while late March and early April might be the most noted weeks for cherry blossoms, they aren’t the only ones. You can see them as early as February in places like Okinawa and Kawazu, or as late as May in Hokkaido.']</highlights>\n",
            "</source>\n",
            "\n"
          ]
        }
      ]
    },
    {
      "cell_type": "code",
      "source": [
        "from langchain_core.runnables import RunnablePassthrough, RunnableParallel\n",
        "from langchain_core.prompts import ChatPromptTemplate\n",
        "from langchain_google_genai import ChatGoogleGenerativeAI\n",
        "\n",
        "generation_prompt = ChatPromptTemplate.from_messages([\n",
        "    (\"system\", \"You are an expert research assistant. You use xml-formatted context to research people's questions.\"),\n",
        "    (\"human\", \"\"\"\n",
        "Please answer the following query based on the provided context. Please cite your sources at the end of your response.:\n",
        "\n",
        "Query: {query}\n",
        "---\n",
        "<context>\n",
        "{context}\n",
        "</context>\n",
        "\"\"\")\n",
        "])\n",
        "\n",
        "llm = ChatGoogleGenerativeAI(model=\"gemini-1.5-flash-8b\",temperature=0.2)\n",
        "\n",
        "chain = RunnableParallel({\n",
        "    \"query\": RunnablePassthrough(),\n",
        "    \"context\": retrieval_chain,\n",
        "}) | generation_prompt | llm"
      ],
      "metadata": {
        "id": "F3_nntWCH6iB"
      },
      "execution_count": 8,
      "outputs": []
    },
    {
      "cell_type": "code",
      "source": [
        "chain.invoke(\"What is the economy rate of Pakistan ?\")"
      ],
      "metadata": {
        "colab": {
          "base_uri": "https://localhost:8080/"
        },
        "id": "syaSqs4MJ2uO",
        "outputId": "568a0a0e-b7ca-4b67-89eb-d078c5e1d941"
      },
      "execution_count": 12,
      "outputs": [
        {
          "output_type": "execute_result",
          "data": {
            "text/plain": [
              "AIMessage(content='Unfortunately, the provided context does not contain the specific economic rate for Pakistan.  While the sources mention economic indicators like the Consumer Price Index (CPI) and prize bonds, they do not provide a specific economic rate figure.  To get the economy rate of Pakistan, you would need to consult a more comprehensive source that explicitly states the rate.\\n\\n\\n**Sources:**\\n\\n*  [https://www.khistocks.com/economics-indicators/economics-rates.html](https://www.khistocks.com/economics-indicators/economics-rates.html)\\n*  [https://www.forex.pk/](https://www.forex.pk/)\\n*  [https://countryeconomy.com/countries-cpi/pakistan](https://countryeconomy.com/countries-cpi/pakistan)\\n', additional_kwargs={}, response_metadata={'prompt_feedback': {'block_reason': 0, 'safety_ratings': []}, 'finish_reason': 'STOP', 'safety_ratings': [{'category': 'HARM_CATEGORY_HATE_SPEECH', 'probability': 'NEGLIGIBLE', 'blocked': False}, {'category': 'HARM_CATEGORY_DANGEROUS_CONTENT', 'probability': 'NEGLIGIBLE', 'blocked': False}, {'category': 'HARM_CATEGORY_HARASSMENT', 'probability': 'NEGLIGIBLE', 'blocked': False}, {'category': 'HARM_CATEGORY_SEXUALLY_EXPLICIT', 'probability': 'NEGLIGIBLE', 'blocked': False}]}, id='run-8be8b8f1-9ada-4139-8f90-7f727d4b8d82-0', usage_metadata={'input_tokens': 323, 'output_tokens': 174, 'total_tokens': 497, 'input_token_details': {'cache_read': 0}})"
            ]
          },
          "metadata": {},
          "execution_count": 12
        }
      ]
    }
  ]
}